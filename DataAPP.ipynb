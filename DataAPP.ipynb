{
 "cells": [
  {
   "cell_type": "code",
   "execution_count": 115,
   "id": "84813962",
   "metadata": {},
   "outputs": [],
   "source": [
    "import pandas as pd\n",
    "import numpy as np\n",
    "import os\n",
    "import glob\n",
    "from datetime import datetime\n",
    "import matplotlib.pyplot as plt\n",
    "import plotly.express as px\n",
    "import dash\n",
    "from dash.dash_table.Format import Group\n",
    "from dash import Dash, html, dcc, callback, Output, Input\n",
    "import plotly.graph_objs as go\n",
    "import seaborn as sns"
   ]
  },
  {
   "cell_type": "markdown",
   "id": "a5bb99b1",
   "metadata": {},
   "source": [
    "## Load dataset "
   ]
  },
  {
   "cell_type": "code",
   "execution_count": 116,
   "id": "d7717812",
   "metadata": {},
   "outputs": [],
   "source": [
    "file_path = '/Users/dantashashou/Downloads/Viz/Lastfm/*.csv' #To your Lastfm File\n",
    "file_list = glob.glob(file_path)\n",
    "df = pd.DataFrame()\n",
    "for file in file_list:\n",
    "    columns = ['Artist', 'Album', 'Track', 'Date']\n",
    "    listener = os.path.basename(file.split('.')[0])\n",
    "    temp_df = pd.read_csv(file, names = columns)\n",
    "    temp_df = temp_df.assign(Listener = listener)\n",
    "    df = pd.concat([df, temp_df], ignore_index=True)\n",
    "#print(\"Processing file:\", file)"
   ]
  },
  {
   "cell_type": "markdown",
   "id": "da784d30",
   "metadata": {},
   "source": [
    "### Check Dataset"
   ]
  },
  {
   "cell_type": "code",
   "execution_count": 117,
   "id": "02cfbb44",
   "metadata": {},
   "outputs": [],
   "source": [
    "# df.tail()\n",
    "# print(df.info())\n",
    "\n",
    "# select = df[df['Artist'] == 'Jay Chou']\n",
    "# select.head()\n",
    "# select = df[df['Album'] == 'Mayday']\n",
    "# select.head()\n",
    "# select = df[df['Track'] == 'Mayday']\n",
    "# select.head()\n",
    "# select = df[df['Listener'] == 'SilentDefender']\n",
    "# select.sample(10)"
   ]
  },
  {
   "cell_type": "code",
   "execution_count": 118,
   "id": "14cbf66f",
   "metadata": {},
   "outputs": [
    {
     "name": "stdout",
     "output_type": "stream",
     "text": [
      "datetime64[ns]\n"
     ]
    }
   ],
   "source": [
    "#change the date format to datetime\n",
    "df['Date'] = pd.to_datetime(df['Date'], infer_datetime_format=True)\n",
    "print(df['Date'].dtype)"
   ]
  },
  {
   "cell_type": "markdown",
   "id": "eafe703f",
   "metadata": {},
   "source": [
    "### Count unique number"
   ]
  },
  {
   "cell_type": "code",
   "execution_count": 119,
   "id": "a74954de",
   "metadata": {},
   "outputs": [
    {
     "name": "stdout",
     "output_type": "stream",
     "text": [
      "86111\n",
      "152282\n",
      "326956\n",
      "62\n"
     ]
    }
   ],
   "source": [
    "unique_artists = df['Artist'].nunique()\n",
    "print(unique_artists)\n",
    "unique_albums= df['Album'].nunique()\n",
    "print(unique_albums)\n",
    "unique_tracks = df['Track'].nunique()\n",
    "print(unique_tracks)\n",
    "unique_listeners = df['Listener'].nunique()\n",
    "print(unique_listeners)"
   ]
  },
  {
   "cell_type": "markdown",
   "id": "5179bab5",
   "metadata": {},
   "source": [
    "### Count most listened"
   ]
  },
  {
   "cell_type": "code",
   "execution_count": 120,
   "id": "dcad315e",
   "metadata": {},
   "outputs": [
    {
     "name": "stdout",
     "output_type": "stream",
     "text": [
      "Most listened artist is: Taylor Swift, 613171\n",
      "Most listened album is: Stay Alive (Prod. SUGA of BTS), 185958\n",
      "Most listened track is: Stay Alive (Prod. SUGA of BTS), 186251\n",
      "Most listened listener is: d0ras, 284373\n"
     ]
    }
   ],
   "source": [
    "#counts\n",
    "artist_counts = df['Artist'].value_counts()\n",
    "album_counts = df['Album'].value_counts()\n",
    "track_counts = df['Track'].value_counts()\n",
    "listener_counts = df['Listener'].value_counts()\n",
    "\n",
    "# Most listened artist\n",
    "most_listened_artist = artist_counts.idxmax()\n",
    "most_listened_artist_count = artist_counts.max()\n",
    "\n",
    "# Most listened album\n",
    "most_listened_album = album_counts.idxmax()\n",
    "most_listened_album_count = album_counts.max()\n",
    "\n",
    "# Most listened track\n",
    "most_listened_track = track_counts.idxmax()\n",
    "most_listened_track_count = track_counts.max()\n",
    "\n",
    "# Most listened listener\n",
    "most_listened_listener = listener_counts.idxmax()\n",
    "most_listened_listener_count = listener_counts.max()\n",
    "\n",
    "print(\"Most listened artist is: {}, {}\".format(most_listened_artist, most_listened_artist_count))\n",
    "print(\"Most listened album is: {}, {}\".format(most_listened_album, most_listened_album_count))\n",
    "print(\"Most listened track is: {}, {}\".format(most_listened_track, most_listened_track_count))\n",
    "print(\"Most listened listener is: {}, {}\".format(most_listened_listener, most_listened_listener_count))"
   ]
  },
  {
   "cell_type": "markdown",
   "id": "aa3d33dd",
   "metadata": {},
   "source": [
    "### Rank of most listened"
   ]
  },
  {
   "cell_type": "code",
   "execution_count": 121,
   "id": "733f2149",
   "metadata": {
    "scrolled": true
   },
   "outputs": [],
   "source": [
    "Rankartist = pd.DataFrame({'Artist': artist_counts.index, 'Count': artist_counts.values})\n",
    "Rankartist10 = Rankartist.head(10)\n",
    "# Rankartist.head(10)\n",
    "\n",
    "Rankalbum = pd.DataFrame({'Album': album_counts.index, 'Count': album_counts.values})\n",
    "Rankalbum10 = Rankalbum.head(10)\n",
    "# Rankalbum.head(10)\n",
    "\n",
    "Ranktrack = pd.DataFrame({'Track': track_counts.index, 'Count': track_counts.values})\n",
    "Ranktrack10 = Ranktrack.head(10)\n",
    "# Ranktrack.head(10)\n",
    "\n",
    "Ranklistener = pd.DataFrame({'Listener': listener_counts.index, 'Count': listener_counts.values})\n",
    "Ranklistener10 = Ranklistener.head(10)\n",
    "# Ranklistener.head(10)"
   ]
  },
  {
   "cell_type": "markdown",
   "id": "adcf9771",
   "metadata": {},
   "source": [
    "### Count weekly most listened"
   ]
  },
  {
   "cell_type": "code",
   "execution_count": 122,
   "id": "8f7e5145",
   "metadata": {},
   "outputs": [],
   "source": [
    "weekly_top_artist = df.groupby(df['Date'].dt.to_period('W'))['Artist'].agg(lambda x: x.value_counts().idxmax())\n",
    "Rankartist_weekly = pd.DataFrame({'Artist': weekly_top_artist.values}, index=weekly_top_artist.index)\n",
    "# Rankartist_weekly.tail()\n",
    "\n",
    "weekly_top_album = df[df['Album'] != ''].groupby(df['Date'].dt.to_period('W'))['Track'].agg(lambda x: x.value_counts().idxmax())        \n",
    "Rankalbum_weekly = pd.DataFrame({'Album': weekly_top_album.values}, index=weekly_top_album.index)\n",
    "# Rankalbum_weekly.head()\n",
    "\n",
    "weekly_top_track = df.groupby(df['Date'].dt.to_period('W'))['Track'].agg(lambda x: x.value_counts().idxmax())\n",
    "Ranktrack_weekly = pd.DataFrame({'Track': weekly_top_track.values}, index=weekly_top_track.index)\n",
    "# Ranktrack_weekly.head()\n",
    "\n",
    "weekly_top_listener = df.groupby(df['Date'].dt.to_period('W'))['Listener'].agg(lambda x: x.value_counts().idxmax())\n",
    "Ranklistener_weekly = pd.DataFrame({'Listener': weekly_top_listener.values}, index=weekly_top_listener.index)\n",
    "# Ranklistener_weekly.tail()"
   ]
  },
  {
   "cell_type": "markdown",
   "id": "04dc5929",
   "metadata": {},
   "source": [
    "### Rank of weekly most listened"
   ]
  },
  {
   "cell_type": "code",
   "execution_count": 123,
   "id": "2b4796e9",
   "metadata": {},
   "outputs": [],
   "source": [
    "weekly_top10_artists = (\n",
    "    df.assign(Week=df['Date'].dt.to_period('W')) \n",
    "    .loc[df['Artist'] != '']  \n",
    "    .groupby(['Week', 'Artist'])\n",
    "    .size()\n",
    "    .reset_index(name='Count')\n",
    "    .groupby('Week', group_keys=False)\n",
    "    .apply(lambda x: x.nlargest(10, 'Count'))\n",
    "    .reset_index(drop=True)\n",
    ")\n",
    "# weekly_top10_artists.tail()"
   ]
  },
  {
   "cell_type": "code",
   "execution_count": 124,
   "id": "4bb4ef7d",
   "metadata": {},
   "outputs": [],
   "source": [
    "weekly_top10_albums = (\n",
    "    df.assign(Week=df['Date'].dt.to_period('W')) \n",
    "    .loc[df['Album'] != '']  \n",
    "    .groupby(['Week', 'Album'])\n",
    "    .size()\n",
    "    .reset_index(name='Count')\n",
    "    .groupby('Week', group_keys=False)\n",
    "    .apply(lambda x: x.nlargest(10, 'Count'))\n",
    "    .reset_index(drop=True)\n",
    ")\n",
    "# weekly_top10_albums.tail()"
   ]
  },
  {
   "cell_type": "code",
   "execution_count": 125,
   "id": "bee7d45b",
   "metadata": {},
   "outputs": [],
   "source": [
    "weekly_top10_tracks = (\n",
    "    df.assign(Week=df['Date'].dt.to_period('W')) \n",
    "    .loc[df['Track'] != '']  \n",
    "    .groupby(['Week', 'Track'])\n",
    "    .size()\n",
    "    .reset_index(name='Count')\n",
    "    .groupby('Week', group_keys=False)\n",
    "    .apply(lambda x: x.nlargest(10, 'Count'))\n",
    "    .reset_index(drop=True)\n",
    ")\n",
    "# weekly_top10_tracks.tail()"
   ]
  },
  {
   "cell_type": "code",
   "execution_count": 126,
   "id": "04a7006d",
   "metadata": {},
   "outputs": [],
   "source": [
    "weekly_top10_listeners = (\n",
    "    df.assign(Week=df['Date'].dt.to_period('W')) \n",
    "    .loc[df['Listener'] != '']  \n",
    "    .groupby(['Week', 'Listener'])\n",
    "    .size()\n",
    "    .reset_index(name='Count')\n",
    "    .groupby('Week', group_keys=False)\n",
    "    .apply(lambda x: x.nlargest(10, 'Count'))\n",
    "    .reset_index(drop=True)\n",
    ")\n",
    "# weekly_top10_listeners.tail()"
   ]
  },
  {
   "cell_type": "markdown",
   "id": "007cd43a",
   "metadata": {},
   "source": [
    "### 4 Rank figure"
   ]
  },
  {
   "cell_type": "code",
   "execution_count": 127,
   "id": "f6b31607",
   "metadata": {},
   "outputs": [],
   "source": [
    "Rankartistfig=px.bar(Rankartist10[::-1], x='Count', y='Artist', orientation='h',title='Top 10 Artist of all time',text='Count',template='seaborn')\n",
    "Rankalbumfig=px.bar(Rankalbum10[::-1], x='Count', y='Album', orientation='h',title='Top 10 Album of all time',text='Count',template='seaborn')\n",
    "Ranktrackfig=px.bar(Ranktrack10[::-1], x='Count', y='Track', orientation='h',title='Top 10 Track of all time',text='Count',template='seaborn')\n",
    "Ranklistenerfig=px.bar(Ranklistener10[::-1], x='Count', y='Listener', orientation='h',title='Top 10 Listener of all time',text='Count',template='seaborn')"
   ]
  },
  {
   "cell_type": "markdown",
   "id": "7fd75049",
   "metadata": {},
   "source": [
    "### Cross Tabulation and Bubble figure"
   ]
  },
  {
   "cell_type": "code",
   "execution_count": 128,
   "id": "e86edf88",
   "metadata": {},
   "outputs": [],
   "source": [
    "listener_artist = df.groupby(['Listener', 'Artist']).size().reset_index(name='TrackCount').sort_values(by='TrackCount', ascending=False).head(50)\n",
    "listener_artist_table = listener_artist.pivot_table(index='Listener', columns='Artist', values='TrackCount',fill_value=0)\n",
    "bubble_df = listener_artist_table.reset_index().melt(id_vars='Listener', var_name='Artist', value_name='TrackCount')\n",
    "bubblefig = px.scatter(bubble_df, x='Artist', y='Listener', size='TrackCount', color='TrackCount',\n",
    "                 labels={'TrackCount': 'Track Count'},\n",
    "                 title='Bubble Plot of Listener-Artist TrackCount')"
   ]
  },
  {
   "cell_type": "code",
   "execution_count": 129,
   "id": "66d6a07d",
   "metadata": {},
   "outputs": [],
   "source": [
    "#listener_artist.head(50)"
   ]
  },
  {
   "cell_type": "code",
   "execution_count": 130,
   "id": "5867c441",
   "metadata": {},
   "outputs": [],
   "source": [
    "#listener_artist_table.head()"
   ]
  },
  {
   "cell_type": "markdown",
   "id": "35aaaf7e",
   "metadata": {},
   "source": [
    "### Count Track Every Year"
   ]
  },
  {
   "cell_type": "code",
   "execution_count": 131,
   "id": "34cafb3f",
   "metadata": {},
   "outputs": [],
   "source": [
    "df['Year'] = df['Date'].dt.year.fillna(0).astype(int)\n",
    "total_track = df[df['Year'] != 0].groupby(['Year']).size().reset_index(name='TrackCount')\n",
    "yearly_track = df.groupby(['Artist','Year']).size().reset_index(name='TrackCount')"
   ]
  },
  {
   "cell_type": "markdown",
   "id": "0efbaffb",
   "metadata": {},
   "source": [
    "# Dashboard"
   ]
  },
  {
   "cell_type": "code",
   "execution_count": 147,
   "id": "b292a719",
   "metadata": {},
   "outputs": [
    {
     "data": {
      "text/html": [
       "\n",
       "        <iframe\n",
       "            width=\"100%\"\n",
       "            height=\"650\"\n",
       "            src=\"http://127.0.0.1:8050/\"\n",
       "            frameborder=\"0\"\n",
       "            allowfullscreen\n",
       "            \n",
       "        ></iframe>\n",
       "        "
      ],
      "text/plain": [
       "<IPython.lib.display.IFrame at 0x7f7e377f1dc0>"
      ]
     },
     "metadata": {},
     "output_type": "display_data"
    }
   ],
   "source": [
    "app = Dash('__name__')\n",
    "\n",
    "week_options = [{'label': str(week), 'value': str(week)} for week in weekly_top10_artists['Week'].unique()]\n",
    "\n",
    "app.layout = html.Div([\n",
    "    html.H1(children='Playlist KPI Dashboard',\n",
    "            style={'textAlign':'center', 'backgroundColor':'lightblue', 'borderRadius':'10px', 'height':'50px'}),\n",
    "    \n",
    "    html.Div(\n",
    "    dcc.Tabs(id='tabs', value='artist-tab', children=[\n",
    "        dcc.Tab(label=f'Most listened Artist: {most_listened_artist}',value='artist-tab', children=[\n",
    "            dcc.Graph(id='rankartistfig',figure=Rankartistfig, style={'height': '400px'}),\n",
    "            html.Label('Pick a date here'),\n",
    "            dcc.Dropdown(id='dropdown-artist', options=week_options,\n",
    "                         value=str(weekly_top10_artists['Week'].iloc[-1]), clearable=False),\n",
    "            dcc.Graph(id='output-dropdown-artist', style={'height': '400px'})\n",
    "        ],style={'borderRadius': '10px','backgroundColor':'lightblue'}),\n",
    "        \n",
    "        dcc.Tab(label=f'Most listened Album: {most_listened_album}',value='album-tab', children=[\n",
    "            dcc.Graph(id='rankalbumfig',figure=Rankalbumfig, style={'height': '400px'}),\n",
    "            html.Label('Pick a date here'),\n",
    "            dcc.Dropdown(id='dropdown-album', options=week_options,\n",
    "                         value=str(weekly_top10_albums['Week'].iloc[-1]), clearable=False),\n",
    "            dcc.Graph(id='output-dropdown-album', style={'height': '400px'})\n",
    "        ],style={'borderRadius': '10px'}),\n",
    "      \n",
    "        dcc.Tab(label=f'Most listened Track: {most_listened_track}',value='track-tab', children=[\n",
    "            dcc.Graph(id='ranktrackfig',figure=Ranktrackfig, style={'height': '400px'}),\n",
    "            html.Label('Pick a date here'),\n",
    "            dcc.Dropdown(id='dropdown-track', options=week_options,\n",
    "                         value=str(weekly_top10_tracks['Week'].iloc[-1]), clearable=False),\n",
    "            dcc.Graph(id='output-dropdown-track', style={'height': '400px'})\n",
    "        ],style={'borderRadius': '10px'}),\n",
    "    \n",
    "        dcc.Tab(label=f'Most listened Listener: {most_listened_listener}',value='listener-tab', children=[\n",
    "            dcc.Graph(id='ranklistenerfig',figure=Ranklistenerfig, style={'height': '400px'}),\n",
    "            html.Label('Pick a date here'),\n",
    "            dcc.Dropdown(id='dropdown-listener', options=week_options,\n",
    "                         value=str(weekly_top10_listeners['Week'].iloc[-1]), clearable=False),\n",
    "            dcc.Graph(id='output-dropdown-listener', style={'height': '400px'})\n",
    "        ],style={'borderRadius': '10px'}),\n",
    "    ]),\n",
    "    \n",
    "    style={'width': '60%', 'float': 'left'}\n",
    "        \n",
    "    ),\n",
    "    \n",
    "    \n",
    "    html.Div([\n",
    "        dcc.Graph(id='bubblefig',figure=bubblefig, style={'height': '532px'}),\n",
    "        \n",
    "        dcc.Input(id='artist-input', type='text', placeholder='Enter an Artist', style={'width': '600px', 'height': '30px'}),\n",
    "        dcc.Graph(id='track-trend-plot', style={'height': '400px'}),\n",
    "    ], style={'width': '40%', 'float': 'right'})\n",
    "    \n",
    "    \n",
    "\n",
    "\n",
    "\n",
    "])\n",
    "\n",
    "#Weekly Bar Chart\n",
    "def update_output(selected_week, selected_tab, top_data, y_label):\n",
    "    filtered_data = top_data[top_data['Week'] == selected_week]\n",
    "    top_data_filtered = filtered_data.groupby(y_label)['Count'].sum().nlargest(10).reset_index()\n",
    "    \n",
    "    weekfig = px.bar(\n",
    "        top_data_filtered[::-1], x='Count', y=y_label, orientation='h',\n",
    "        labels={'Count': 'Count', y_label: y_label},\n",
    "        title=f'Top 10 {y_label} during {selected_week}',\n",
    "        text='Count',\n",
    "        template='seaborn'\n",
    "    )\n",
    "    return weekfig\n",
    "\n",
    "\n",
    "@app.callback(\n",
    "    Output('output-dropdown-artist', 'figure'),\n",
    "    [Input('dropdown-artist', 'value')]\n",
    ")\n",
    "def update_output_artist(selected_week):\n",
    "    return update_output(selected_week, 'artist-tab', weekly_top10_artists, 'Artist')\n",
    "\n",
    "@app.callback(\n",
    "    Output('output-dropdown-album', 'figure'),\n",
    "    [Input('dropdown-album', 'value')]\n",
    ")\n",
    "def update_output_album(selected_week):\n",
    "    return update_output(selected_week, 'album-tab', weekly_top10_albums, 'Album')\n",
    "\n",
    "@app.callback(\n",
    "    Output('output-dropdown-track', 'figure'),\n",
    "    [Input('dropdown-track', 'value')]\n",
    ")\n",
    "def update_output_track(selected_week):\n",
    "    return update_output(selected_week, 'track-tab', weekly_top10_tracks, 'Track')\n",
    "\n",
    "@app.callback(\n",
    "    Output('output-dropdown-listener', 'figure'),\n",
    "    [Input('dropdown-listener', 'value')]\n",
    ")\n",
    "def update_output_listener(selected_week):\n",
    "    return update_output(selected_week, 'listener-tab', weekly_top10_listeners, 'Listener')\n",
    "\n",
    "#Line Plot\n",
    "@app.callback(\n",
    "    Output('track-trend-plot', 'figure'),\n",
    "    [Input('artist-input', 'value')]\n",
    ")\n",
    "def update_track_trend_plot(selected_artist):\n",
    "    if not selected_artist:\n",
    "        fig = px.line(\n",
    "            total_track, x='Year', y='TrackCount',\n",
    "            labels={'TrackCount': 'TrackCount', 'Year': 'Year'},\n",
    "            title=f\"Total Count of each year\",\n",
    "            template='seaborn'\n",
    "        )\n",
    "        fig.update_layout(xaxis_range=[2000, 2023])\n",
    "        return fig\n",
    "    \n",
    "    filtered_data = yearly_track[yearly_track['Artist'] == selected_artist]\n",
    "    \n",
    "    fig = px.line(\n",
    "        filtered_data, x='Year', y='TrackCount',\n",
    "        labels={'TrackCount': 'TrackCount', 'Year': 'Year'},\n",
    "        title=f\"Track Count of {selected_artist} each year\",\n",
    "        template='seaborn'\n",
    "    )\n",
    "    fig.update_layout(xaxis_range=[2000, 2023])\n",
    "    \n",
    "    return fig\n",
    "\n",
    "\n",
    "if __name__ == '__main__':\n",
    "    app.run(debug=True)"
   ]
  },
  {
   "cell_type": "code",
   "execution_count": null,
   "id": "eca85394",
   "metadata": {},
   "outputs": [],
   "source": []
  }
 ],
 "metadata": {
  "kernelspec": {
   "display_name": "Python 3 (ipykernel)",
   "language": "python",
   "name": "python3"
  },
  "language_info": {
   "codemirror_mode": {
    "name": "ipython",
    "version": 3
   },
   "file_extension": ".py",
   "mimetype": "text/x-python",
   "name": "python",
   "nbconvert_exporter": "python",
   "pygments_lexer": "ipython3",
   "version": "3.9.7"
  }
 },
 "nbformat": 4,
 "nbformat_minor": 5
}
